{
 "cells": [
  {
   "cell_type": "code",
   "execution_count": null,
   "metadata": {},
   "outputs": [],
   "source": [
    "import {\n",
    "  ChatPromptTemplate,\n",
    "  MessagesPlaceholder,\n",
    "} from \"@langchain/core/prompts\";\n",
    "import { StructuredTool } from \"@langchain/core/tools\";\n",
    "import { convertToOpenAITool } from \"@langchain/core/utils/function_calling\";\n",
    "import { Runnable } from \"@langchain/core/runnables\";\n",
    "import { ChatOpenAI } from \"@langchain/openai\";\n",
    "\n",
    "/**\n",
    " * Create an agent that can run a set of tools.\n",
    " */\n",
    "async function createAgent({\n",
    "  llm,\n",
    "  tools,\n",
    "  systemMessage,\n",
    "}: {\n",
    "  llm: ChatOpenAI;\n",
    "  tools: StructuredTool[];\n",
    "  systemMessage: string;\n",
    "}): Promise<Runnable> {\n",
    "  const toolNames = tools.map((tool) => tool.name).join(\", \");\n",
    "  const formattedTools = tools.map((t) => convertToOpenAITool(t));\n",
    "\n",
    "  let prompt = ChatPromptTemplate.fromMessages([\n",
    "    [\n",
    "      \"system\",\n",
    "      \"You are a helpful AI assistant, collaborating with other assistants.\" +\n",
    "      \" Use the provided tools to progress towards answering the question.\" +\n",
    "      \" If you are unable to fully answer, that's OK, another assistant with different tools \" +\n",
    "      \" will help where you left off. Execute what you can to make progress.\" +\n",
    "      \" If you or any of the other assistants have the final answer or deliverable,\" +\n",
    "      \" prefix your response with FINAL ANSWER so the team knows to stop.\" +\n",
    "      \" You have access to the following tools: {tool_names}.\\n{system_message}\",\n",
    "    ],\n",
    "    new MessagesPlaceholder(\"messages\"),\n",
    "  ]);\n",
    "  prompt = await prompt.partial({\n",
    "    system_message: systemMessage,\n",
    "    tool_names: toolNames,\n",
    "  });\n",
    "\n",
    "  return prompt.pipe(llm.bind({ tools: formattedTools }));\n",
    "}"
   ]
  }
 ],
 "metadata": {
  "kernelspec": {
   "display_name": "cmllm",
   "language": "python",
   "name": "python3"
  },
  "language_info": {
   "name": "python",
   "version": "3.10.15"
  }
 },
 "nbformat": 4,
 "nbformat_minor": 2
}
